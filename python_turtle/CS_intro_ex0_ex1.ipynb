{
 "cells": [
  {
   "cell_type": "code",
   "execution_count": 46,
   "metadata": {},
   "outputs": [
    {
     "name": "stdout",
     "output_type": "stream",
     "text": [
      "done importing\n"
     ]
    }
   ],
   "source": [
    "# ex 0  - drawing flowers with turtle.\n",
    "\n",
    "# import turtle\n",
    "from turtle import *\n",
    "print(\"done importing\")\n",
    "\n",
    "s = turtle.getscreen()    \n",
    "t = turtle.Turtle()\n",
    "t.shape(\"turtle\")"
   ]
  },
  {
   "cell_type": "code",
   "execution_count": 29,
   "metadata": {},
   "outputs": [],
   "source": [
    "# part a:\n",
    "\n",
    "s = turtle.getscreen()    \n",
    "t = turtle.Turtle()\n",
    "t.shape(\"turtle\")\n",
    "\n"
   ]
  },
  {
   "cell_type": "code",
   "execution_count": 101,
   "metadata": {},
   "outputs": [
    {
     "name": "stdout",
     "output_type": "stream",
     "text": [
      "72.0 , half step =  36.0\n"
     ]
    }
   ],
   "source": [
    "def half_a_petal(s,t,turn_half_step):\n",
    "    \"\"\"draws half a petal\"\"\"\n",
    "    t.forward(30)\n",
    "    t.left(turn_half_step)\n",
    "    t.forward(30)\n",
    "    t.left(180 - turn_half_step)\n",
    "    \n",
    "def draw_petal(s,t,turn_half_step):\n",
    "    \"\"\"draws a petal\"\"\"\n",
    "    half_a_petal(s,t,turn_half_step)\n",
    "    half_a_petal(s,t,turn_half_step)\n",
    "\n",
    "def draw_flower(s,t,num_of_petals):\n",
    "    \"\"\"will draw a flower with number of petals as indicated by user\"\"\"\n",
    "    num = num_of_petals\n",
    "    turn_step = 360/num\n",
    "    turn_half_step = turn_step/2\n",
    "    t.left(turn_half_step)\n",
    "    draw_petal(s,t,turn_half_step)\n",
    "    for i in range(num_of_petals-1):\n",
    "        t.left(turn_step)\n",
    "        draw_petal(s,t,turn_half_step)\n",
    "#     t.left(180-2*turn_half_step)\n",
    "    t.setheading(90+90+90)\n",
    "    t.forward(150)\n",
    "    \n",
    "def draw_flower_and_advance(s,t,num_of_petals):\n",
    "    \"\"\"will draw a flower, then move to get ready for the next flower\"\"\"\n",
    "    draw_flower(s,t,num_of_petals)\n",
    "    t.rt(90)\n",
    "    t.penup()\n",
    "    t.forward(150)\n",
    "    t.rt(90)\n",
    "    t.forward(150)\n",
    "    t.left(90)\n",
    "    t.down()\n",
    "\n",
    "def draw_flower_bed(s,t,num_of_petals,num_of_flowers):\n",
    "    \"\"\"will draw a bunch of flowers in a line one after the other\"\"\"\n",
    "    num = num_of_flowers\n",
    "    t.up()\n",
    "    t.forward(200)\n",
    "    t.left(180)\n",
    "    t.down()\n",
    "    petals = num_of_petals\n",
    "    for i in range(num):\n",
    "        draw_flower_and_advance(s,t,petals)\n",
    "        if num_of_petals > num:\n",
    "            petals=petals-1\n",
    "        \n",
    "num = 5\n",
    "turn_step = 360/num\n",
    "turn_half_step = turn_step/2\n",
    "print(turn_step, \", half step = \",turn_half_step)\n",
    "num_of_petals = 13\n",
    "num_of_flowers = 3\n",
    "\n"
   ]
  },
  {
   "cell_type": "code",
   "execution_count": 102,
   "metadata": {},
   "outputs": [],
   "source": [
    "turtle.resetscreen()\n",
    "draw_flower_bed(s,t,num_of_petals,num_of_flowers)"
   ]
  },
  {
   "cell_type": "code",
   "execution_count": 36,
   "metadata": {},
   "outputs": [],
   "source": [
    "draw_flower_bed(s,t,8,3)"
   ]
  },
  {
   "cell_type": "code",
   "execution_count": 103,
   "metadata": {},
   "outputs": [],
   "source": [
    "turtle.reset()\n",
    "turtle.clear()\n",
    "turtle.resetscreen()\n",
    "turtle.bye()"
   ]
  },
  {
   "cell_type": "markdown",
   "metadata": {},
   "source": [
    "another ex.\n",
    "# ex 1"
   ]
  },
  {
   "cell_type": "code",
   "execution_count": 105,
   "metadata": {},
   "outputs": [
    {
     "name": "stdout",
     "output_type": "stream",
     "text": [
      "1.618033988749895\n"
     ]
    }
   ],
   "source": [
    "import math\n",
    "def golden_ratio():\n",
    "    \"\"\"this function calculates and prints the golden ratio\"\"\"\n",
    "    print ((1 + math.sqrt(5)) / 2)\n",
    "    \n",
    "golden_ratio()"
   ]
  },
  {
   "cell_type": "code",
   "execution_count": null,
   "metadata": {},
   "outputs": [],
   "source": []
  }
 ],
 "metadata": {
  "kernelspec": {
   "display_name": "Python 3",
   "language": "python",
   "name": "python3"
  },
  "language_info": {
   "codemirror_mode": {
    "name": "ipython",
    "version": 3
   },
   "file_extension": ".py",
   "mimetype": "text/x-python",
   "name": "python",
   "nbconvert_exporter": "python",
   "pygments_lexer": "ipython3",
   "version": "3.8.5"
  }
 },
 "nbformat": 4,
 "nbformat_minor": 4
}
